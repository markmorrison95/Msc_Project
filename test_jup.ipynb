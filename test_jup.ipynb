{
 "metadata": {
  "language_info": {
   "codemirror_mode": {
    "name": "ipython",
    "version": 3
   },
   "file_extension": ".py",
   "mimetype": "text/x-python",
   "name": "python",
   "nbconvert_exporter": "python",
   "pygments_lexer": "ipython3",
   "version": "3.7.5-final"
  },
  "orig_nbformat": 2,
  "kernelspec": {
   "name": "python_defaultSpec_1599669149304",
   "display_name": "Python 3.7.5 64-bit ('msc_project': conda)"
  }
 },
 "nbformat": 4,
 "nbformat_minor": 2,
 "cells": [
  {
   "cell_type": "code",
   "execution_count": 2,
   "metadata": {},
   "outputs": [],
   "source": [
    "import pymc3 as pm\n",
    "from prior_comparison_tool.main import create_app\n",
    "import pandas as pd\n",
    "from prior_comparison_tool.model import model\n",
    "import numpy as np\n",
    "\n",
    "# ********** model taken from statistical rethinking - McElreath 2015 *************\n",
    "\n",
    "def model_method(data, **prior_params):\n",
    "    weight_m = np.vstack((data.weight_std, data.weight_std**2, data.weight_std**3))\n",
    "    with pm.Model() as model:\n",
    "        alpha = pm.Normal('alpha', mu=prior_params['alpha mu'], sd=prior_params['alpha sd'])\n",
    "        beta = pm.Normal('beta', mu=prior_params['beta mu'], sd=prior_params['beta sd'], shape=3)\n",
    "        sigma = pm.Uniform('sigma', lower=prior_params['sigma lower'], upper=prior_params['sigma upper'])\n",
    "        mu = pm.Deterministic('mu', alpha + pm.math.dot(beta, weight_m))\n",
    "        height = pm.Normal('height', mu=mu, sd=sigma, observed=data.height)\n",
    "    return model\n",
    "\n",
    "d = pd.read_csv(\"Howell1.csv\", sep=\";\", header=0)\n",
    "d = d[d.age >= 18]\n",
    "d[\"weight_std\"] = (d.weight - d.weight.mean()) / d.weight.std()\n",
    "d[\"weight_std2\"] = d.weight_std**2\n",
    "\n",
    "\n",
    "params= {\n",
    "    'alpha mu':178,\n",
    "    'alpha sd':100,\n",
    "    'beta mu':0,\n",
    "    'beta sd':10,\n",
    "    'sigma lower':0,\n",
    "    'sigma upper':50,\n",
    "}\n",
    "\n",
    "data = d\n",
    "\n",
    "m = model_method(data, **params)"
   ]
  },
  {
   "cell_type": "code",
   "execution_count": 3,
   "metadata": {},
   "outputs": [
    {
     "output_type": "execute_result",
     "data": {
      "text/plain": "<pymc3.model.Model at 0x7fe3e89eb610>",
      "text/latex": "$$\n            \\begin{array}{rcl}\n            \\text{alpha} &\\sim & \\text{Normal}(\\mathit{mu}=178.0,~\\mathit{sigma}=100.0)\\\\\\text{beta} &\\sim & \\text{Normal}(\\mathit{mu}=0.0,~\\mathit{sigma}=10.0)\\\\\\text{sigma} &\\sim & \\text{Uniform}(\\mathit{lower}=0.0,~\\mathit{upper}=50.0)\\\\\\text{mu} &\\sim & \\text{Deterministic}(\\text{alpha},~\\text{beta},~\\text{Constant})\\\\\\text{height} &\\sim & \\text{Normal}(\\mathit{mu}=\\text{mu},~\\mathit{sigma}=f(\\text{sigma}))\n            \\end{array}\n            $$"
     },
     "metadata": {},
     "execution_count": 3
    }
   ],
   "source": [
    "m"
   ]
  },
  {
   "cell_type": "code",
   "execution_count": 4,
   "metadata": {},
   "outputs": [
    {
     "output_type": "display_data",
     "data": {
      "text/plain": "<IPython.core.display.HTML object>",
      "text/html": "\n    <div>\n        <style>\n            /* Turns off some styling */\n            progress {\n                /* gets rid of default border in Firefox and Opera. */\n                border: none;\n                /* Needs to be in here for Safari polyfill so background images work as expected. */\n                background-size: auto;\n            }\n            .progress-bar-interrupted, .progress-bar-interrupted::-webkit-progress-bar {\n                background: #F44336;\n            }\n        </style>\n      <progress value='0' class='' max='8000' style='width:300px; height:20px; vertical-align: middle;'></progress>\n      \n    </div>\n    "
     },
     "metadata": {}
    },
    {
     "output_type": "display_data",
     "data": {
      "text/plain": "<IPython.core.display.HTML object>",
      "text/html": "\n    <div>\n        <style>\n            /* Turns off some styling */\n            progress {\n                /* gets rid of default border in Firefox and Opera. */\n                border: none;\n                /* Needs to be in here for Safari polyfill so background images work as expected. */\n                background-size: auto;\n            }\n            .progress-bar-interrupted, .progress-bar-interrupted::-webkit-progress-bar {\n                background: #F44336;\n            }\n        </style>\n      <progress value='0' class='' max='4000' style='width:300px; height:20px; vertical-align: middle;'></progress>\n      \n    </div>\n    "
     },
     "metadata": {}
    }
   ],
   "source": [
    "import arviz as az\n",
    "\n",
    "with m:\n",
    "    prior = pm.sample_prior_predictive()\n",
    "    trace = pm.sample()\n",
    "    posterior = pm.sample_posterior_predictive(trace)\n",
    "    pm_data = az.from_pymc3(\n",
    "        prior=prior,\n",
    "        posterior_predictive=posterior,\n",
    "        trace=trace,\n",
    "    )"
   ]
  },
  {
   "cell_type": "code",
   "execution_count": 7,
   "metadata": {
    "tags": []
   },
   "outputs": [
    {
     "output_type": "execute_result",
     "data": {
      "text/plain": "array([[Figure(id='1002', ...), None, None, None, None, None, None, None],\n       [Figure(id='1038', ...), Figure(id='1074', ...), None, None, None,\n        None, None, None],\n       [Figure(id='1110', ...), Figure(id='1146', ...),\n        Figure(id='1182', ...), None, None, None, None, None],\n       [Figure(id='1218', ...), Figure(id='1254', ...),\n        Figure(id='1290', ...), Figure(id='1326', ...), None, None, None,\n        None],\n       [Figure(id='1362', ...), Figure(id='1398', ...),\n        Figure(id='1434', ...), Figure(id='1470', ...),\n        Figure(id='1506', ...), None, None, None],\n       [Figure(id='1542', ...), Figure(id='1578', ...),\n        Figure(id='1614', ...), Figure(id='1650', ...),\n        Figure(id='1686', ...), Figure(id='1722', ...), None, None],\n       [Figure(id='1758', ...), Figure(id='1794', ...),\n        Figure(id='1830', ...), Figure(id='1866', ...),\n        Figure(id='1902', ...), Figure(id='1938', ...),\n        Figure(id='1974', ...), None],\n       [Figure(id='2010', ...), Figure(id='2046', ...),\n        Figure(id='2082', ...), Figure(id='2118', ...),\n        Figure(id='2154', ...), Figure(id='2190', ...),\n        Figure(id='2226', ...), Figure(id='2262', ...)]], dtype=object)"
     },
     "metadata": {},
     "execution_count": 7
    }
   ],
   "source": [
    "az.plot_pair(pm_data, backend='bokeh')"
   ]
  },
  {
   "cell_type": "code",
   "execution_count": null,
   "metadata": {},
   "outputs": [],
   "source": []
  }
 ]
}