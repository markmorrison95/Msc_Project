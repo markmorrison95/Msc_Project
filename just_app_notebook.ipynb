{
 "metadata": {
  "language_info": {
   "codemirror_mode": {
    "name": "ipython",
    "version": 3
   },
   "file_extension": ".py",
   "mimetype": "text/x-python",
   "name": "python",
   "nbconvert_exporter": "python",
   "pygments_lexer": "ipython3",
   "version": "3.7.5-final"
  },
  "orig_nbformat": 2,
  "kernelspec": {
   "name": "python_defaultSpec_1598260022444",
   "display_name": "Python 3.7.5 64-bit ('msc_project': conda)"
  }
 },
 "nbformat": 4,
 "nbformat_minor": 2,
 "cells": [
  {
   "cell_type": "code",
   "execution_count": 1,
   "metadata": {},
   "outputs": [],
   "source": [
    "import pandas as pd\n",
    "import pymc3 as pm\n",
    "import matplotlib.pyplot as plt\n",
    "import numpy as np\n",
    "\n",
    "# pd.Series\n",
    "# disaster_data = pd.Series([4, 5, 4, 0, 1, 4, 3, 4, 0, 6, 3, 3, 4, 0, 2, 6,\n",
    "#                            3, 3, 5, 4, 5, 3, 1, 4, 4, 1, 5, 5, 3, 4, 2, 5,\n",
    "#                            2, 2, 3, 4, 2, 1, 3, np.nan, 2, 1, 1, 1, 1, 3, 0, 0,\n",
    "#                            1, 0, 1, 1, 0, 0, 3, 1, 0, 3, 2, 2, 0, 1, 1, 1,\n",
    "#                            0, 1, 0, 1, 0, 0, 0, 2, 1, 0, 0, 0, 1, 1, 0, 2,\n",
    "#                            3, 3, 1, np.nan, 2, 1, 1, 1, 1, 2, 4, 2, 0, 0, 1, 4,\n",
    "#                            0, 0, 0, 1, 0, 0, 0, 0, 0, 1, 0, 0, 1, 0, 1], dtype='nt64')\n",
    "\n",
    "disaster_data = pd.Series([4, 5, 4, 0, 1, 4, 3, 4, 0, 6, 3, 3, 4, 0, 2, 6,\n",
    "                           3, 3, 5, 4, 5, 3, 1, 4, 4, 1, 5, 5, 3, 4, 2, 5,\n",
    "                           2, 2, 3, 4, 2, 1, 3, 2, 2, 1, 1, 1, 1, 3, 0, 0,\n",
    "                           1, 0, 1, 1, 0, 0, 3, 1, 0, 3, 2, 2, 0, 1, 1, 1,\n",
    "                           0, 1, 0, 1, 0, 0, 0, 2, 1, 0, 0, 0, 1, 1, 0, 2,\n",
    "                           3, 3, 1, 4, 2, 1, 1, 1, 1, 2, 4, 2, 0, 0, 1, 4,\n",
    "                           0, 0, 0, 1, 0, 0, 0, 0, 0, 1, 0, 0, 1, 0, 1], dtype='int64')\n",
    "years = np.arange(1851, 1962)"
   ]
  },
  {
   "cell_type": "code",
   "execution_count": 2,
   "metadata": {},
   "outputs": [],
   "source": [
    "m_kwars = dict(early_rate_lambda=1, late_rate_lambda=1)"
   ]
  },
  {
   "cell_type": "code",
   "execution_count": 3,
   "metadata": {},
   "outputs": [],
   "source": [
    "def model_method(data, **kwargs):\n",
    "    with pm.Model() as disaster_model:\n",
    "        switchpoint = pm.DiscreteUniform('switchpoint', lower=years.min(), upper = years.max(),testval=1900)\n",
    "\n",
    "        early_rate = pm.Exponential('early_rate', kwargs['early_rate_lambda'])\n",
    "        late_rate = pm.Exponential('late_rate', kwargs['late_rate_lambda'])\n",
    "\n",
    "        rate = pm.math.switch(switchpoint >= years, early_rate, late_rate)\n",
    "\n",
    "        disasters = pm.Poisson('disasters', rate, observed=data)\n",
    "\n",
    "    return disaster_model"
   ]
  },
  {
   "cell_type": "code",
   "execution_count": 5,
   "metadata": {
    "tags": []
   },
   "outputs": [
    {
     "output_type": "stream",
     "name": "stderr",
     "text": "The estimated number of effective samples is smaller than 200 for some parameters.\nThe estimated number of effective samples is smaller than 200 for some parameters.\nThe estimated number of effective samples is smaller than 200 for some parameters.\nThe rhat statistic is larger than 1.4 for some parameters. The sampler did not converge.\nThe estimated number of effective samples is smaller than 200 for some parameters.\nLaunching server at http://localhost:59624\n"
    }
   ],
   "source": [
    "%reload_ext autoreload\n",
    "%autoreload 2\n",
    "from prior_views.app import app_view\n",
    "\n",
    "app = app_view(model_method, disaster_data, **m_kwars)"
   ]
  },
  {
   "cell_type": "code",
   "execution_count": null,
   "metadata": {},
   "outputs": [],
   "source": []
  }
 ]
}