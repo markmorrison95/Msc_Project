{
 "metadata": {
  "language_info": {
   "codemirror_mode": {
    "name": "ipython",
    "version": 3
   },
   "file_extension": ".py",
   "mimetype": "text/x-python",
   "name": "python",
   "nbconvert_exporter": "python",
   "pygments_lexer": "ipython3",
   "version": "3.7.5-final"
  },
  "orig_nbformat": 2,
  "kernelspec": {
   "name": "python_defaultSpec_1598373527845",
   "display_name": "Python 3.7.5 64-bit ('msc_project': conda)"
  }
 },
 "nbformat": 4,
 "nbformat_minor": 2,
 "cells": [
  {
   "cell_type": "code",
   "execution_count": 1,
   "metadata": {},
   "outputs": [],
   "source": [
    "import pymc3 as pm\n",
    "\n",
    "def model_method(data, **prior_params):\n",
    "    with pm.Model() as model:\n",
    "        mu = pm.Normal(\"mu\", mu=prior_params['height_mean_mu'], sd=prior_params['height_mean_sd'])\n",
    "        sigma = pm.Uniform(\"sigma\", lower=prior_params['sd_lower'], upper=prior_params['sd_upper'])\n",
    "        height = pm.Normal(\"height\", mu=mu, sd=sigma, observed=data.height)\n",
    "\n",
    "    return model"
   ]
  },
  {
   "cell_type": "code",
   "execution_count": 2,
   "metadata": {},
   "outputs": [],
   "source": [
    "import pandas as pd\n",
    "\n",
    "d = pd.read_csv(\"Howell1.csv\", sep=\";\", header=0)\n",
    "data = d[d.age >= 18]\n",
    "\n",
    "params= {\n",
    "    'height_mean_mu':178,\n",
    "    'height_mean_sd':20,\n",
    "    'sd_lower':0,\n",
    "    'sd_upper':50,\n",
    "}"
   ]
  },
  {
   "cell_type": "code",
   "execution_count": 4,
   "metadata": {},
   "outputs": [
    {
     "output_type": "execute_result",
     "data": {
      "text/plain": "<pymc3.model.Model at 0x7feb33ab21d0>",
      "text/latex": "$$\n            \\begin{array}{rcl}\n            \\text{mu} &\\sim & \\text{Normal}(\\mathit{mu}=178.0,~\\mathit{sigma}=20.0)\\\\\\text{sigma} &\\sim & \\text{Uniform}(\\mathit{lower}=0.0,~\\mathit{upper}=50.0)\\\\\\text{height} &\\sim & \\text{Normal}(\\mathit{mu}=\\text{mu},~\\mathit{sigma}=f(\\text{sigma}))\n            \\end{array}\n            $$"
     },
     "metadata": {},
     "execution_count": 4
    }
   ],
   "source": [
    "model_method(data, **params)"
   ]
  },
  {
   "cell_type": "code",
   "execution_count": 6,
   "metadata": {
    "tags": []
   },
   "outputs": [
    {
     "output_type": "stream",
     "name": "stdout",
     "text": "Launching server at http://localhost:49316\n"
    }
   ],
   "source": [
    "from prior_views.app import app_view\n",
    "\n",
    "app = app_view(model_method, data, **params)"
   ]
  },
  {
   "cell_type": "code",
   "execution_count": null,
   "metadata": {},
   "outputs": [],
   "source": [
    "import arviz as az \n",
    "\n",
    "d = az.from_pymc3(\n",
    "    \n",
    ")"
   ]
  },
  {
   "cell_type": "code",
   "execution_count": 4,
   "metadata": {},
   "outputs": [],
   "source": [
    "%matplotlib inline\n",
    "import pymc3 as pm\n",
    "import numpy as np\n",
    "import matplotlib.pyplot as plt\n",
    "import seaborn as sns\n",
    "sns.set_context('notebook')"
   ]
  },
  {
   "cell_type": "code",
   "execution_count": 5,
   "metadata": {},
   "outputs": [],
   "source": [
    "J = 8\n",
    "y = np.array([28,  8, -3,  7, -1,  1, 18, 12])\n",
    "sigma = np.array([15, 10, 16, 11,  9, 11, 10, 18])"
   ]
  },
  {
   "cell_type": "code",
   "execution_count": 8,
   "metadata": {
    "tags": []
   },
   "outputs": [
    {
     "output_type": "stream",
     "name": "stderr",
     "text": "Auto-assigning NUTS sampler...\nInitializing NUTS using jitter+adapt_diag...\nMultiprocess sampling (4 chains in 4 jobs)\nNUTS: [tau, mu, eta]\n"
    },
    {
     "output_type": "display_data",
     "data": {
      "text/plain": "<IPython.core.display.HTML object>",
      "text/html": "\n    <div>\n        <style>\n            /* Turns off some styling */\n            progress {\n                /* gets rid of default border in Firefox and Opera. */\n                border: none;\n                /* Needs to be in here for Safari polyfill so background images work as expected. */\n                background-size: auto;\n            }\n            .progress-bar-interrupted, .progress-bar-interrupted::-webkit-progress-bar {\n                background: #F44336;\n            }\n        </style>\n      <progress value='0' class='' max='8000' style='width:300px; height:20px; vertical-align: middle;'></progress>\n      \n    </div>\n    "
     },
     "metadata": {}
    },
    {
     "output_type": "stream",
     "name": "stderr",
     "text": "Sampling 4 chains for 1_000 tune and 1_000 draw iterations (4_000 + 4_000 draws total) took 4 seconds.\nThere were 7 divergences after tuning. Increase `target_accept` or reparameterize.\nThere were 2 divergences after tuning. Increase `target_accept` or reparameterize.\nThere were 3 divergences after tuning. Increase `target_accept` or reparameterize.\nThere were 7 divergences after tuning. Increase `target_accept` or reparameterize.\n"
    }
   ],
   "source": [
    "with pm.Model() as hierarchical:\n",
    "\n",
    "    eta = pm.Normal('eta', 0, 1, shape=J)\n",
    "    mu = pm.Normal('mu', 0, sd=1e6)\n",
    "    tau = pm.HalfCauchy('tau', 5)\n",
    "\n",
    "    theta = pm.Deterministic('theta', mu + tau*eta)\n",
    "\n",
    "    obs = pm.Normal('obs', theta, sd=sigma, observed=y)\n"
   ]
  },
  {
   "cell_type": "code",
   "execution_count": null,
   "metadata": {},
   "outputs": [],
   "source": [
    "posterior = posterior_den"
   ]
  },
  {
   "cell_type": "code",
   "execution_count": null,
   "metadata": {},
   "outputs": [],
   "source": [
    "import arviz as az \n",
    "\n",
    "az.plot_density()"
   ]
  }
 ]
}